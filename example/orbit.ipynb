{
 "cells": [
  {
   "cell_type": "markdown",
   "metadata": {},
   "source": [
    "# Orbit in a point-mass potential"
   ]
  },
  {
   "cell_type": "markdown",
   "metadata": {},
   "source": [
    "This example shows how to get the orbit of a tracer particle in a point-mass potential using the streakline module.\n",
    "\n",
    "First we'll load the required modules and setup the notebook:"
   ]
  },
  {
   "cell_type": "code",
   "execution_count": 1,
   "metadata": {},
   "outputs": [],
   "source": [
    "from __future__ import print_function, division\n",
    "\n",
    "import numpy as np\n",
    "import matplotlib as mpl\n",
    "import matplotlib.pyplot as plt\n",
    "import astropy.units as u\n",
    "from astropy.constants import G\n",
    "\n",
    "import streakline\n",
    "\n",
    "%matplotlib inline\n",
    "\n",
    "mpl.rcParams['figure.figsize'] = (8,8)\n",
    "mpl.rcParams['font.size'] = 18"
   ]
  },
  {
   "cell_type": "markdown",
   "metadata": {},
   "source": [
    "Next, let's define our potential by a $1\\,\\rm M_\\odot$ point mass, and put our tracer particle initially at $1\\,\\rm AU$."
   ]
  },
  {
   "cell_type": "code",
   "execution_count": 2,
   "metadata": {
    "collapsed": true
   },
   "outputs": [],
   "source": [
    "M = 1*u.Msun\n",
    "x_ = np.array([1, 0, 0])*u.au"
   ]
  },
  {
   "cell_type": "markdown",
   "metadata": {},
   "source": [
    "Let's also place our tracer on a circular orbit:"
   ]
  },
  {
   "cell_type": "code",
   "execution_count": 3,
   "metadata": {},
   "outputs": [
    {
     "data": {
      "text/latex": [
       "$29.784692 \\; \\mathrm{\\frac{km}{s}}$"
      ],
      "text/plain": [
       "<Quantity 29.78469182967693 km / s>"
      ]
     },
     "execution_count": 3,
     "metadata": {},
     "output_type": "execute_result"
    }
   ],
   "source": [
    "vc = np.sqrt(G*M/np.sqrt(np.sum(x_**2)))\n",
    "vc.to(u.km/u.s)"
   ]
  },
  {
   "cell_type": "code",
   "execution_count": 4,
   "metadata": {
    "collapsed": true
   },
   "outputs": [],
   "source": [
    "v_ = np.array([0, vc.value, 0])*vc.unit"
   ]
  },
  {
   "cell_type": "markdown",
   "metadata": {},
   "source": [
    "Now that the potential and the initial conditions are set, we need to define a few of the orbital integration parameters. First, we need to set the type of potential, next the integrator, then how long we want to integrate the orbit, with how big time steps, and in which direction (+1 for forward in time, -1 for back in time)."
   ]
  },
  {
   "cell_type": "code",
   "execution_count": 5,
   "metadata": {
    "collapsed": true
   },
   "outputs": [],
   "source": [
    "potential_ = 'point'\n",
    "integrator_ = 'lf'\n",
    "age = 1*u.yr\n",
    "dt_ = 1*u.day\n",
    "sign = 1."
   ]
  },
  {
   "cell_type": "markdown",
   "metadata": {},
   "source": [
    "To speed up the calculations in the streakline module, integrator and potential variables are assigned an integer ids, which will be input for the orbit integrator. Here are a couple of helper functions that do the translation."
   ]
  },
  {
   "cell_type": "code",
   "execution_count": 6,
   "metadata": {
    "collapsed": true
   },
   "outputs": [],
   "source": [
    "def get_intid(integrator):\n",
    "    \"\"\"Assign integrator ID for a given integrator choice\n",
    "    Parameter:\n",
    "    integrator - either 'lf' for leap frog or 'rk' for Runge-Kutta\n",
    "    \"\"\"\n",
    "    \n",
    "    integrator_dict = {'lf': 0, 'rk': 1}\n",
    "    \n",
    "    return integrator_dict[integrator]\n",
    "            \n",
    "def get_potid(potential):\n",
    "    \"\"\"Assign potential ID for a given potential choice\n",
    "    Parameter:\n",
    "    potential - one of the following: \n",
    "    'point' -- point mass\n",
    "    'log' -- triaxial logarithmic halo\n",
    "    'nfw' -- triaxial NFW halo\n",
    "    'gal' -- Hernquist bulge + Miyamoto-Nagai disk + triaxial NFW halo\n",
    "    \"\"\"\n",
    "    \n",
    "    potential_dict = {'point': 0, 'log': 2, 'nfw': 3, 'gal': 4}\n",
    "    \n",
    "    return potential_dict[potential]"
   ]
  },
  {
   "cell_type": "markdown",
   "metadata": {},
   "source": [
    "So far, we've made use of astropy units, which simplifies calculations in python. However, the streakline code is written in c for performance, and expects all inputs in SI units. \n",
    "\n",
    "We'll convert the initial position and velocity, as well as the time step and all of the potential parameters to SI. Potential parameters are passed in a list, and for point mass potential it only consists of a point mass value. We get the potential and integrator IDs using the above helper functions, and calculate the number of time steps we want the integrator to make."
   ]
  },
  {
   "cell_type": "code",
   "execution_count": 7,
   "metadata": {},
   "outputs": [],
   "source": [
    "x = x_.si.value\n",
    "v = v_.si.value\n",
    "params = [M.si.value,]\n",
    "potential = get_potid(potential_)\n",
    "integrator = get_intid(integrator_)\n",
    "N = int(age/dt_)\n",
    "dt = dt_.si.value"
   ]
  },
  {
   "cell_type": "markdown",
   "metadata": {},
   "source": [
    "Now we have all the input parameters for the orbit integrator. It is called by ```streakline.orbit(x_init, v_init, potential_params, potential_id, integrator_id, Nsteps, time_step, sign)```. This function returns a $6\\times\\rm N_{step}$ array, with the orbital evolution of a tracer particle. The columns of the array are: $x$, $y$, $z$, $v_x$, $v_y$, $v_z$ (all in SI). "
   ]
  },
  {
   "cell_type": "code",
   "execution_count": 8,
   "metadata": {},
   "outputs": [],
   "source": [
    "orbit_ = streakline.orbit(x, v, params, potential, integrator, N, dt, sign)\n",
    "\n",
    "orbit = {}\n",
    "orbit['x'] = orbit_[:3]*u.m\n",
    "orbit['v'] = orbit_[3:]*u.m/u.s"
   ]
  },
  {
   "cell_type": "markdown",
   "metadata": {},
   "source": [
    "Let's check how well the integrator does by plotting the numerically integrated orbit (black) and the analytic solution (red). "
   ]
  },
  {
   "cell_type": "code",
   "execution_count": 9,
   "metadata": {},
   "outputs": [
    {
     "data": {
      "image/png": "[encoded data removed]",
      "text/plain": [
       "<matplotlib.figure.Figure at 0x7fbedbf1a4d0>"
      ]
     },
     "metadata": {},
     "output_type": "display_data"
    }
   ],
   "source": [
    "plt.figure()\n",
    "plt.plot(orbit['x'][0].to(u.au), orbit['x'][1].to(u.au), 'k-', lw=4, zorder=0)\n",
    "circle = mpl.patches.Circle((0,0), radius=1, lw=2, ec='r', fc='none', zorder=1)\n",
    "plt.gca().add_artist(circle)\n",
    "\n",
    "plt.xlim(-1, 1)\n",
    "plt.ylim(-1, 1)\n",
    "\n",
    "plt.xlabel(\"x (AU)\");\n",
    "plt.ylabel(\"y (AU)\");"
   ]
  },
  {
   "cell_type": "markdown",
   "metadata": {},
   "source": [
    "Numerical orbit agrees with the analytic fairly well for this time step size. Explore what happens when you change it!"
   ]
  },
  {
   "cell_type": "code",
   "execution_count": 19,
   "metadata": {},
   "outputs": [
    {
     "name": "stdout",
     "output_type": "stream",
     "text": [
      "8766 timesteps\n",
      "1000 loops, best of 3: 220 µs per loop\n"
     ]
    }
   ],
   "source": [
    "dt_ = 1*u.hr\n",
    "N = int(age/dt_)\n",
    "dt = dt_.si.value\n",
    "print('{} timesteps'.format(N))\n",
    "%timeit -n1000 orbit_ = streakline.orbit(x, v, params, potential, integrator, N, dt, sign)"
   ]
  },
  {
   "cell_type": "code",
   "execution_count": null,
   "metadata": {
    "collapsed": true
   },
   "outputs": [],
   "source": []
  }
 ],
 "metadata": {
  "kernelspec": {
   "display_name": "Python 2",
   "language": "python",
   "name": "python2"
  },
  "language_info": {
   "codemirror_mode": {
    "name": "ipython",
    "version": 2
   },
   "file_extension": ".py",
   "mimetype": "text/x-python",
   "name": "python",
   "nbconvert_exporter": "python",
   "pygments_lexer": "ipython2",
   "version": "2.7.13"
  }
 },
 "nbformat": 4,
 "nbformat_minor": 1
}
